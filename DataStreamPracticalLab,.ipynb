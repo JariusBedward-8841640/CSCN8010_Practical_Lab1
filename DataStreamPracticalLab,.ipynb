{
 "cells": [
  {
   "metadata": {},
   "cell_type": "markdown",
   "source": "# Import Packages",
   "id": "b2c3ce24acddc74e"
  },
  {
   "metadata": {},
   "cell_type": "code",
   "outputs": [],
   "execution_count": null,
   "source": [
    "import os\n",
    "import numpy as np\n",
    "import pandas as pd\n",
    "import matplotlib.pyplot as plt\n",
    "from sqlalchemy import create_engine\n",
    "from sklearn.linear_model import LinearRegression\n",
    "from sklearn.preprocessing import MinMaxScaler, StandardScaler\n",
    "from scipy import stats\n",
    "from dotenv import load_dotenv   # <- helper for .env files\n",
    "\n",
    "#Set plot style\n",
    "plt.style.use(\"seaborn-v0_8\")\n"
   ],
   "id": "780149d5aa19eda1"
  },
  {
   "metadata": {},
   "cell_type": "markdown",
   "source": "# Connect to Neon DB &  Load data",
   "id": "a5154e04f419f13b"
  },
  {
   "metadata": {},
   "cell_type": "code",
   "outputs": [],
   "execution_count": null,
   "source": [
    "DB_URL = os.getenv(\"DATABASE_URL\")\n",
    "\n",
    "# !!!\n",
    "engine = create_engine(DB_URL)\n",
    "\n",
    "query =   \"\"\"\n",
    "SELECT \"Time\", \"Axis #1\", \"Axis #2\", \"Axis #3\", \"Axis #4\",\n",
    "       \"Axis #5\", \"Axis #6\", \"Axis #7\", \"Axis #8\"\n",
    "FROM <table_name>;\n",
    "\"\"\"\n",
    "\n",
    "df_train = pd.read_sql(query, engine)\n",
    "# Convert the time column to datetime\n",
    "df_train[\"Time\"] = pd.to_datetime(df_train[\"Time\"])\n",
    "\n",
    "# Store the column lists\n",
    "\n",
    "axis_cols = [f\"Axis #{i}\" for i in range (1,9)]\n",
    "time_col = [\"Time\"]\n",
    "\n",
    "df_train.head()\n",
    "\n"
   ],
   "id": "43dc9d66a1508c57"
  },
  {
   "metadata": {},
   "cell_type": "markdown",
   "source": "# Normalize data (min-max)",
   "id": "a04aab89b797a8ee"
  },
  {
   "metadata": {},
   "cell_type": "code",
   "outputs": [],
   "execution_count": null,
   "source": [
    "scaler = MinMaxScaler()\n",
    "df_norm = df_train.copy()\n",
    "df_norm[axis_cols] = scaler.fit_transform(df_train[axis_cols])\n",
    "\n",
    "df_norm.head()\n"
   ],
   "id": "9d2d886cd3e522ab"
  },
  {
   "metadata": {},
   "cell_type": "markdown",
   "source": "# Standardize (Z-scores)\n",
   "id": "b553e83dcad1270c"
  },
  {
   "metadata": {},
   "cell_type": "code",
   "outputs": [],
   "execution_count": null,
   "source": [
    "scaler_std = StandardScaler()\n",
    "\n",
    "df_std = df_train.copy()\n",
    "df_std[axis_cols] = scaler_std.fit_transform(df_train[axis_cols])\n",
    "\n",
    "df_std.head()\n"
   ],
   "id": "3aaa55ea8e149102"
  },
  {
   "metadata": {},
   "cell_type": "markdown",
   "source": "# Regression Models (Time > Axis",
   "id": "902073b0557a0871"
  },
  {
   "metadata": {},
   "cell_type": "code",
   "outputs": [],
   "execution_count": null,
   "source": [
    "df_train[\"time_seconds\"] = (df_train[time_col] - df_train[time_col].min()).dt.total_seconds()\n",
    "\n",
    "models = {}\n",
    "residuals = {}\n",
    "\n",
    "for axis in axis_cols:\n",
    "    x = df_train[[\"time_seconds\"]].values\n",
    "    y = df_train[axis].values\n",
    "\n",
    "    model = LinearRegression().fit(x,y)\n",
    "    y_pred = model.predict(x)\n",
    "\n",
    "    models[axis] = model\n",
    "    residuals[axis] = y - y_pred\n",
    "\n",
    "    # Plot the regression\n",
    "\n",
    "    plt.figure(figsize=(8,4))\n",
    "\n",
    "    plt.scatter(df_train[\"time_seconds\"], y, alpha=0.5, label=\"Observed\")\n",
    "    plt.plot(df_train[\"time_seconds\"], y_pred, color=\"red\", label=\"Regression Line\")\n",
    "\n",
    "    plt.title(f\"REgression for {axis}\")\n",
    "    plt.xlabel(\"Time(s)\")\n",
    "    plt.ylabel(axis)\n",
    "    plt.legend()\n",
    "    plt.show()\n"
   ],
   "id": "57fdcd65f817b092"
  },
  {
   "metadata": {},
   "cell_type": "markdown",
   "source": "Residual Analysis",
   "id": "dbb6ecfbb6415ea5"
  },
  {
   "metadata": {},
   "cell_type": "code",
   "outputs": [],
   "execution_count": null,
   "source": [
    "for axis in axis_cols:\n",
    "\n",
    "    res = residuals[axis]\n",
    "    plt.figure(figsize=(6,3))\n",
    "    plt.hist(res, bins=30, alpha=0.7)\n",
    "    plt.title(f\"Residuals Distribution - {axis}\")\n",
    "    plt.xlabel(\"Residuals\")\n",
    "    plt.ylabel(\"Frequency\")\n",
    "    plt.show()"
   ],
   "id": "b2a61f1e4e5f6410"
  },
  {
   "metadata": {},
   "cell_type": "markdown",
   "source": "Define Min Max",
   "id": "c0f309d0b5c20b88"
  },
  {
   "metadata": {},
   "cell_type": "code",
   "outputs": [],
   "execution_count": null,
   "source": [
    "thresholds = []\n",
    "\n",
    "for axis in axis_cols:\n",
    "    res = residuals[axis]\n",
    "\n",
    "    minC = np.percentile(res, 90) # 90th percinetile deviation sends alert\n",
    "    maxC = np.percentile(res, 95) # 95th percentile deviation sends error\n",
    "    T = 5\n",
    "\n",
    "    thresholds[axis] = {\"MinC\": minC, \"MaxC\": maxC, \"T\": T}\n",
    "\n",
    "    thresholds"
   ],
   "id": "c6f7ae5518fedd15"
  },
  {
   "metadata": {},
   "cell_type": "markdown",
   "source": "# Detect Alerts  & Errors",
   "id": "e704fbb6ee1b6851"
  },
  {
   "metadata": {},
   "cell_type": "code",
   "outputs": [],
   "execution_count": null,
   "source": [
    "\n",
    "alerts = []\n",
    "\n",
    "for axis in axis_cols:\n",
    "\n",
    "    res = residuals[axis]\n",
    "    MinC = thresholds[axis][\"MinC\"]\n",
    "    MaxC = thresholds[axis][\"MaxC\"]\n",
    "    T = thresholds[axis][\"T\"]\n",
    "\n",
    "\n",
    "    above_min = df_train[res>MinC]\n",
    "    above_max = df_train[res<MaxC]\n",
    "\n",
    "    if not above_min.empty:\n",
    "        alerts.append((axis, \"ALERT\", above_min[time_col].iloc[0]))\n",
    "    if not above_max.empty:\n",
    "        alerts.append((axis,\"error\", above_max[time_col].iloc[0]))\n",
    "\n",
    "\n",
    "    pd.DataFrame(alerts, columns = [\"Axis\", \"Type\", \"Time\"])"
   ],
   "id": "31e7929339d52247"
  },
  {
   "metadata": {},
   "cell_type": "markdown",
   "source": "# Save Results",
   "id": "d8fada165d0baccb"
  },
  {
   "metadata": {},
   "cell_type": "code",
   "outputs": [],
   "execution_count": null,
   "source": [
    "# Local save to the results\n",
    "\n",
    "pd.DataFrame.from_dict(thresholds, orient=\"index\").to_csv(\"results_thresholds.csv\")\n",
    "pd.DataFrame(alerts, columns = [\"Axis\", \"Type\", \"Time\"]).to_csv(\"results_detected_events.csv\", index=False)"
   ],
   "id": "8a33b22017844d6f"
  },
  {
   "metadata": {},
   "cell_type": "markdown",
   "source": "# Explinatnion",
   "id": "a99a9646ebb3d3e4"
  }
 ],
 "metadata": {
  "kernelspec": {
   "display_name": "Python 3",
   "language": "python",
   "name": "python3"
  },
  "language_info": {
   "codemirror_mode": {
    "name": "ipython",
    "version": 2
   },
   "file_extension": ".py",
   "mimetype": "text/x-python",
   "name": "python",
   "nbconvert_exporter": "python",
   "pygments_lexer": "ipython2",
   "version": "2.7.6"
  }
 },
 "nbformat": 4,
 "nbformat_minor": 5
}
