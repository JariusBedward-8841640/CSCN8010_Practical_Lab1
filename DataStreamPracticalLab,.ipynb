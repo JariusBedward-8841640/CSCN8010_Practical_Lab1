{
 "cells": [
  {
   "metadata": {},
   "cell_type": "markdown",
   "source": "# Import Packages",
   "id": "b2c3ce24acddc74e"
  },
  {
   "metadata": {},
   "cell_type": "code",
   "outputs": [],
   "execution_count": null,
   "source": [
    "import os\n",
    "import numpy as np\n",
    "import pandas as pd\n",
    "import matplotlib.pyplot as plt\n",
    "from sqlalchemy import create_engine\n",
    "from sklearn.linear_model import LinearRegression\n",
    "from sklearn.preprocessing import MinMaxScaler, StandardScaler\n",
    "from scipy import stats\n",
    "from dotenv import load_dotenv   # <- helper for .env files\n",
    "\n",
    "#Set plot style\n",
    "plt.style.use(\"seaborn-v0_8\")\n"
   ],
   "id": "780149d5aa19eda1"
  },
  {
   "metadata": {},
   "cell_type": "markdown",
   "source": "# Connect to Neon DB &  Load data",
   "id": "a5154e04f419f13b"
  },
  {
   "metadata": {},
   "cell_type": "code",
   "outputs": [],
   "execution_count": null,
   "source": [
    "DB_URL = os.getenv(\"DATABASE_URL\")\n",
    "\n",
    "# !!!\n",
    "engine = create_engine(DB_URL)\n",
    "\n",
    "query =   \"\"\"\n",
    "SELECT \"Time\", \"Axis #1\", \"Axis #2\", \"Axis #3\", \"Axis #4\",\n",
    "       \"Axis #5\", \"Axis #6\", \"Axis #7\", \"Axis #8\"\n",
    "FROM <table_name>;\n",
    "\"\"\"\n",
    "\n",
    "df_train = pd.read_sql(query, engine)\n",
    "# Convert the time column to datetime\n",
    "df_train[\"Time\"] = pd.to_datetime(df_train[\"Time\"])\n",
    "\n",
    "# Store the column lists\n",
    "\n",
    "axis_cols = [f\"Axis #{i}\" for i in range (1,9)]\n",
    "time_cols = [\"Time\"]\n",
    "\n",
    "df_train.head()\n",
    "\n"
   ],
   "id": "43dc9d66a1508c57"
  },
  {
   "metadata": {},
   "cell_type": "markdown",
   "source": "# Normalize data (min-max)",
   "id": "a04aab89b797a8ee"
  },
  {
   "metadata": {},
   "cell_type": "code",
   "outputs": [],
   "execution_count": null,
   "source": [
    "scaler = MinMaxScaler()\n",
    "df_norm = df_train.copy()\n",
    "df_norm[axis_cols] = scaler.fit_transform(df_train[axis_cols])\n",
    "\n",
    "df_norm.head()\n"
   ],
   "id": "9d2d886cd3e522ab"
  },
  {
   "metadata": {},
   "cell_type": "markdown",
   "source": "# Standardize (Z-scores)\n",
   "id": "b553e83dcad1270c"
  },
  {
   "metadata": {},
   "cell_type": "code",
   "outputs": [],
   "execution_count": null,
   "source": [
    "scaler_std = StandardScaler()\n",
    "\n",
    "df_std = df_train.copy()\n",
    "df_std[axis_cols] = scaler_std.fit_transform(df_train[axis_cols])\n",
    "\n",
    "df_std.head()\n"
   ],
   "id": "3aaa55ea8e149102"
  },
  {
   "metadata": {},
   "cell_type": "markdown",
   "source": "# Regression Models (Time > Axis",
   "id": "902073b0557a0871"
  }
 ],
 "metadata": {
  "kernelspec": {
   "display_name": "Python 3",
   "language": "python",
   "name": "python3"
  },
  "language_info": {
   "codemirror_mode": {
    "name": "ipython",
    "version": 2
   },
   "file_extension": ".py",
   "mimetype": "text/x-python",
   "name": "python",
   "nbconvert_exporter": "python",
   "pygments_lexer": "ipython2",
   "version": "2.7.6"
  }
 },
 "nbformat": 4,
 "nbformat_minor": 5
}
